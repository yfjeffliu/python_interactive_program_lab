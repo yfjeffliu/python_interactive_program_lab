{
 "cells": [
  {
   "cell_type": "code",
   "execution_count": 1,
   "source": [
    "import pygame\r\n",
    "from enemy import EnemyGroup\r\n",
    "import os\r\n",
    "from settings import WIN_WIDTH, WIN_HEIGHT, FPS\r\n",
    "\r\n",
    "# initialization\r\n",
    "pygame.init()\r\n",
    "# load image\r\n",
    "BACKGROUND_IMAGE = pygame.image.load(os.path.join(\"images\", \"Map.png\"))\r\n",
    "HP_IMAGE = pygame.image.load(os.path.join(\"images\", \"hp.png\"))\r\n",
    "HP_GRAY_IMAGE = pygame.image.load(os.path.join(\"images\", \"hp_gray.png\"))\r\n",
    "# set the title and icon\r\n",
    "pygame.display.set_caption(\"My TD game\")\r\n",
    "\r\n",
    "\r\n",
    "class Game:\r\n",
    "    def __init__(self):\r\n",
    "        self.win = pygame.display.set_mode((WIN_WIDTH, WIN_HEIGHT))\r\n",
    "        self.bg_image = pygame.transform.scale(BACKGROUND_IMAGE, (WIN_WIDTH, WIN_HEIGHT))\r\n",
    "        self.hp_images = [pygame.transform.scale(HP_IMAGE, (40, 40)),\r\n",
    "                          pygame.transform.scale(HP_GRAY_IMAGE, (40, 40))]\r\n",
    "        self.enemies = EnemyGroup()\r\n",
    "        self.base = pygame.Rect(430, 90, 195, 130)\r\n",
    "\r\n",
    "    def collide_base(self, enemy):\r\n",
    "        \"\"\"\r\n",
    "        Return True if the enemy collide with base.\r\n",
    "        :param enemy: object (Enemy())\r\n",
    "        :return: Bool\r\n",
    "        \"\"\"\r\n",
    "        x, y = self.base.center\r\n",
    "        width, height = self.base.w, self.base.h\r\n",
    "        if x - width // 2 < enemy.x < x + width // 2 and y - height // 2 < enemy.y < y + height // 2:\r\n",
    "            return True\r\n",
    "        return False\r\n",
    "\r\n",
    "    def draw(self):\r\n",
    "        \"\"\"\r\n",
    "        Draw everything in this method.\r\n",
    "        :return: None\r\n",
    "        \"\"\"\r\n",
    "        # draw background\r\n",
    "        self.win.blit(self.bg_image, (0, 0))\r\n",
    "        # draw enemy\r\n",
    "        for en in self.enemies.get():\r\n",
    "            en.draw(self.win)\r\n",
    "\r\n",
    "    def game_run(self):\r\n",
    "        # game loop\r\n",
    "        run = True\r\n",
    "        clock = pygame.time.Clock()\r\n",
    "        while run:\r\n",
    "            clock.tick(FPS)\r\n",
    "            # event loop\r\n",
    "            for event in pygame.event.get():\r\n",
    "                # quit the game\r\n",
    "                if event.type == pygame.QUIT:\r\n",
    "                    run = False\r\n",
    "                # generate enemy of the next wave\r\n",
    "                if event.type == pygame.KEYDOWN:\r\n",
    "                    if event.key == pygame.K_n and self.enemies.is_empty():\r\n",
    "                        self.enemies.generate(3)\r\n",
    "                        \r\n",
    "\r\n",
    "             # enemy loop\r\n",
    "            self.enemies.campaign()\r\n",
    "            for en in self.enemies.get():\r\n",
    "                en.move()\r\n",
    "                # delete the object when it reach the base\r\n",
    "                if self.collide_base(en):\r\n",
    "                    self.enemies.retreat(en)\r\n",
    "                \r\n",
    "\r\n",
    "            # draw everything\r\n",
    "            self.draw()\r\n",
    "            pygame.display.update()\r\n",
    "        pygame.quit()\r\n",
    "\r\n",
    "\r\n",
    "if __name__ == '__main__':\r\n",
    "    covid_game = Game()\r\n",
    "    covid_game.game_run()"
   ],
   "outputs": [
    {
     "output_type": "stream",
     "name": "stdout",
     "text": [
      "pygame 2.0.1 (SDL 2.0.14, Python 3.8.10)\n",
      "Hello from the pygame community. https://www.pygame.org/contribute.html\n"
     ]
    }
   ],
   "metadata": {}
  },
  {
   "cell_type": "code",
   "execution_count": null,
   "source": [],
   "outputs": [],
   "metadata": {}
  }
 ],
 "metadata": {
  "kernelspec": {
   "name": "python3",
   "display_name": "Python 3.8.10 64-bit ('py38-pygame': conda)"
  },
  "language_info": {
   "codemirror_mode": {
    "name": "ipython",
    "version": 3
   },
   "file_extension": ".py",
   "mimetype": "text/x-python",
   "name": "python",
   "nbconvert_exporter": "python",
   "pygments_lexer": "ipython3",
   "version": "3.8.10"
  },
  "interpreter": {
   "hash": "fe76d8dd3d38177f66d7d7f6dbcbf8445daac52de7fb1d45af9e5ae0e6b94ad2"
  }
 },
 "nbformat": 4,
 "nbformat_minor": 4
}