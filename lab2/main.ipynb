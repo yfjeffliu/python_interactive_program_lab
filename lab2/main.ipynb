{
 "cells": [
  {
   "cell_type": "code",
   "execution_count": 3,
   "source": [
    "import pygame\r\n",
    "import time\r\n",
    "\r\n",
    "WIN_WIDTH = 1024\r\n",
    "WIN_HEIGHT = 600\r\n",
    "BTN_WIDTH = 80\r\n",
    "BTN_HEIGHT = 80\r\n",
    "HP_WIDTH = 40\r\n",
    "HP_HEIGHT = 40\r\n",
    "FPS = 30\r\n",
    "\r\n",
    "# color (RGB)\r\n",
    "BLACK = (0, 0, 0)\r\n",
    "WHITE = (255, 255, 255)\r\n",
    "RED = (255, 0, 0)\r\n",
    "\r\n",
    "# initialization\r\n",
    "\r\n",
    "# load image (background, enemy, buttons)\r\n",
    "background_image = pygame.transform.scale(pygame.image.load(\"images/Map.png\"), (WIN_WIDTH, WIN_HEIGHT))\r\n",
    "# ...(to be done)\r\n",
    "\r\n",
    "\r\n",
    "# set the title\r\n",
    "# ... (to be done)\r\n",
    "\r\n",
    "\r\n",
    "class Game:\r\n",
    "    def __init__(self):\r\n",
    "        # window\r\n",
    "        # ...(to be done)\r\n",
    "\r\n",
    "        # hp\r\n",
    "        self.hp = 7\r\n",
    "        self.max_hp = 10\r\n",
    "        pass\r\n",
    "\r\n",
    "    def game_run(self):\r\n",
    "        # game loop\r\n",
    "        run = True\r\n",
    "        while run:\r\n",
    "            # event loop\r\n",
    "                # ... (to be done)\r\n",
    "\r\n",
    "            # draw background\r\n",
    "            # ...(to be done)\r\n",
    "\r\n",
    "            # draw enemy and health bar\r\n",
    "            # ...(to be done)\r\n",
    "\r\n",
    "            # draw menu (and buttons)\r\n",
    "            # (... to be done)\r\n",
    "\r\n",
    "\r\n",
    "            # draw time\r\n",
    "            # ...(to be done)\r\n",
    "\r\n",
    "            pygame.display.update()\r\n",
    "\r\n",
    "if __name__ == \"__main__\":\r\n",
    "    pygame.init()\r\n",
    "    window = pygame.display.set_mode((WIN_WIDTH, WIN_HEIGHT))\r\n",
    "    covid_game = Game()\r\n",
    "    covid_game.game_run()\r\n",
    "\r\n",
    "\r\n"
   ],
   "outputs": [
    {
     "output_type": "error",
     "ename": "error",
     "evalue": "Display mode not set",
     "traceback": [
      "\u001b[1;31m---------------------------------------------------------------------------\u001b[0m",
      "\u001b[1;31merror\u001b[0m                                     Traceback (most recent call last)",
      "\u001b[1;32m<ipython-input-3-606179d534cb>\u001b[0m in \u001b[0;36m<module>\u001b[1;34m\u001b[0m\n\u001b[0;32m     61\u001b[0m     \u001b[0mpygame\u001b[0m\u001b[1;33m.\u001b[0m\u001b[0minit\u001b[0m\u001b[1;33m(\u001b[0m\u001b[1;33m)\u001b[0m\u001b[1;33m\u001b[0m\u001b[1;33m\u001b[0m\u001b[0m\n\u001b[0;32m     62\u001b[0m     \u001b[0mcovid_game\u001b[0m \u001b[1;33m=\u001b[0m \u001b[0mGame\u001b[0m\u001b[1;33m(\u001b[0m\u001b[1;33m)\u001b[0m\u001b[1;33m\u001b[0m\u001b[1;33m\u001b[0m\u001b[0m\n\u001b[1;32m---> 63\u001b[1;33m     \u001b[0mcovid_game\u001b[0m\u001b[1;33m.\u001b[0m\u001b[0mgame_run\u001b[0m\u001b[1;33m(\u001b[0m\u001b[1;33m)\u001b[0m\u001b[1;33m\u001b[0m\u001b[1;33m\u001b[0m\u001b[0m\n\u001b[0m\u001b[0;32m     64\u001b[0m \u001b[1;33m\u001b[0m\u001b[0m\n\u001b[0;32m     65\u001b[0m \u001b[1;33m\u001b[0m\u001b[0m\n",
      "\u001b[1;32m<ipython-input-3-606179d534cb>\u001b[0m in \u001b[0;36mgame_run\u001b[1;34m(self)\u001b[0m\n\u001b[0;32m     56\u001b[0m             \u001b[1;31m# ...(to be done)\u001b[0m\u001b[1;33m\u001b[0m\u001b[1;33m\u001b[0m\u001b[1;33m\u001b[0m\u001b[0m\n\u001b[0;32m     57\u001b[0m \u001b[1;33m\u001b[0m\u001b[0m\n\u001b[1;32m---> 58\u001b[1;33m             \u001b[0mpygame\u001b[0m\u001b[1;33m.\u001b[0m\u001b[0mdisplay\u001b[0m\u001b[1;33m.\u001b[0m\u001b[0mupdate\u001b[0m\u001b[1;33m(\u001b[0m\u001b[1;33m)\u001b[0m\u001b[1;33m\u001b[0m\u001b[1;33m\u001b[0m\u001b[0m\n\u001b[0m\u001b[0;32m     59\u001b[0m \u001b[1;33m\u001b[0m\u001b[0m\n\u001b[0;32m     60\u001b[0m \u001b[1;32mif\u001b[0m \u001b[0m__name__\u001b[0m \u001b[1;33m==\u001b[0m \u001b[1;34m\"__main__\"\u001b[0m\u001b[1;33m:\u001b[0m\u001b[1;33m\u001b[0m\u001b[1;33m\u001b[0m\u001b[0m\n",
      "\u001b[1;31merror\u001b[0m: Display mode not set"
     ]
    }
   ],
   "metadata": {}
  }
 ],
 "metadata": {
  "kernelspec": {
   "name": "python3",
   "display_name": "Python 3.8.10 64-bit ('py38-pygame': conda)"
  },
  "language_info": {
   "codemirror_mode": {
    "name": "ipython",
    "version": 3
   },
   "file_extension": ".py",
   "mimetype": "text/x-python",
   "name": "python",
   "nbconvert_exporter": "python",
   "pygments_lexer": "ipython3",
   "version": "3.8.10"
  },
  "interpreter": {
   "hash": "fe76d8dd3d38177f66d7d7f6dbcbf8445daac52de7fb1d45af9e5ae0e6b94ad2"
  }
 },
 "nbformat": 4,
 "nbformat_minor": 4
}