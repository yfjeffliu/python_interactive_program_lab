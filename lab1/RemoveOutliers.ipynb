{
 "cells": [
  {
   "cell_type": "code",
   "execution_count": 22,
   "source": [
    "def remove_outliers(a,n_list):\r\n",
    "    out=[] #存被刪掉的數據\r\n",
    "    stay=[] #存留下來的數據\r\n",
    "    len_list=len(n_list)\r\n",
    "    for i in range(a,len_list-a,1): #a~長度-a的範圍留下\r\n",
    "        stay+=n_list[i]\r\n",
    "    for i in range(0,a,1): #0~a刪除\r\n",
    "        out+=n_list[i]\r\n",
    "    for i in range(len_list-a,len_list,1): #長度-a~最後刪除\r\n",
    "        out += n_list[i]\r\n",
    "    print('The data with the outliers removed: ',stay)\r\n",
    "    print('The outliers: ',out)    \r\n",
    "    return"
   ],
   "outputs": [],
   "metadata": {}
  },
  {
   "cell_type": "code",
   "execution_count": 23,
   "source": [
    "n=input('Enter the number of smallest and largest values to remove:')\r\n",
    "judge=1 #判斷是否繼續\r\n",
    "num_list=[] #讀取輸入\r\n",
    "while(judge):\r\n",
    "    inp=input('Enter a value (q or Q to quit): ')\r\n",
    "    if(inp=='q' or inp == 'Q'):\r\n",
    "        break #q或Q就跳出\r\n",
    "    num_list += inp #非q Q就加入list\r\n",
    "print('The original data: ',num_list)\r\n",
    "num_list.sort() #先做排序\r\n",
    "print('The sorted data: ',num_list)\r\n",
    "remove_outliers(int(n),num_list)\r\n",
    "\r\n",
    "\r\n"
   ],
   "outputs": [
    {
     "output_type": "stream",
     "name": "stdout",
     "text": [
      "The original data:  ['1', '2', '3', '6', '5', '4', '9', '8', '7']\n",
      "The sorted data:  ['1', '2', '3', '4', '5', '6', '7', '8', '9']\n",
      "The data with the outliers removed:  ['3', '4', '5', '6', '7']\n",
      "The outliers:  ['1', '2', '8', '9']\n"
     ]
    }
   ],
   "metadata": {}
  },
  {
   "cell_type": "code",
   "execution_count": null,
   "source": [],
   "outputs": [],
   "metadata": {}
  }
 ],
 "metadata": {
  "orig_nbformat": 4,
  "language_info": {
   "name": "python",
   "version": "3.9.4",
   "mimetype": "text/x-python",
   "codemirror_mode": {
    "name": "ipython",
    "version": 3
   },
   "pygments_lexer": "ipython3",
   "nbconvert_exporter": "python",
   "file_extension": ".py"
  },
  "kernelspec": {
   "name": "python3",
   "display_name": "Python 3.9.4 64-bit"
  },
  "interpreter": {
   "hash": "177b4ee802067b7652000e42b64a28718b8c4c692e734dfa37fd7819d72fbe92"
  }
 },
 "nbformat": 4,
 "nbformat_minor": 2
}