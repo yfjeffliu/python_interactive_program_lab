{
 "cells": [
  {
   "cell_type": "code",
   "execution_count": 1,
   "source": [
    "judge=1 #判斷是否獲勝\r\n",
    "com=0   #電腦的選擇\r\n",
    "player=0    #玩家的選擇\r\n",
    "inp=0   #讀取輸入值\r\n",
    "tie=0   #平手次數\r\n",
    "lose=0  #輸掉次數\r\n",
    "\r\n",
    "import random"
   ],
   "outputs": [],
   "metadata": {}
  },
  {
   "cell_type": "code",
   "execution_count": 2,
   "source": [
    "print('Welcome to ROCK, PAPER, SCISSORS game!')\r\n",
    "while(judge):\r\n",
    "    inp=input('Enter your move: (r)ock (p)aper (s)cissors ') #讀取玩家輸入\r\n",
    "    if (inp=='r'):  \r\n",
    "        print('ROCK versus...')\r\n",
    "        player=1\r\n",
    "    elif inp == 'p':\r\n",
    "        print ('PAPER versus...')\r\n",
    "        player=2\r\n",
    "    elif inp == 's':\r\n",
    "        print('SCISSORS versus...')\r\n",
    "        player=3\r\n",
    "    else:\r\n",
    "        print('輸入錯誤 請重新輸入')\r\n",
    "        continue\r\n",
    "    com=random.randint(1, 3) #亂數處理電腦輸入\r\n",
    "    if com == 1:    #輸出電腦的選擇\r\n",
    "        print('rock')\r\n",
    "    elif com == 2:\r\n",
    "        print('paper')\r\n",
    "    else:\r\n",
    "        print('scissors')\r\n",
    "    if(player==com): #判斷平手\r\n",
    "        print('Tie')\r\n",
    "        tie+=1\r\n",
    "    elif (player==1 and com==3) or (player==2 and com == 1) or (player == 3 and com == 2):  #判斷勝利\r\n",
    "        print('you win')\r\n",
    "        judge=0\r\n",
    "    else:\r\n",
    "        print('you lose')\r\n",
    "        lose+=1\r\n",
    "print('You have ',tie,' ties and ',lose,' losses before your first win')\r\n",
    "\r\n"
   ],
   "outputs": [
    {
     "output_type": "stream",
     "name": "stdout",
     "text": [
      "Welcome to ROCK, PAPER, SCISSORS game!\n",
      "Enter your move: (r)ock (p)aper (s)cissors \n",
      "paper\n",
      "you lose\n",
      "Welcome to ROCK, PAPER, SCISSORS game!\n",
      "Enter your move: (r)ock (p)aper (s)cissors \n",
      "rock\n",
      "Tie\n",
      "Welcome to ROCK, PAPER, SCISSORS game!\n",
      "Enter your move: (r)ock (p)aper (s)cissors \n",
      "scissors\n",
      "you win\n",
      "You have  1  ties and  1  losses before your first win\n"
     ]
    }
   ],
   "metadata": {}
  }
 ],
 "metadata": {
  "orig_nbformat": 4,
  "language_info": {
   "name": "python",
   "version": "3.9.4",
   "mimetype": "text/x-python",
   "codemirror_mode": {
    "name": "ipython",
    "version": 3
   },
   "pygments_lexer": "ipython3",
   "nbconvert_exporter": "python",
   "file_extension": ".py"
  },
  "kernelspec": {
   "name": "python3",
   "display_name": "Python 3.9.4 64-bit"
  },
  "interpreter": {
   "hash": "177b4ee802067b7652000e42b64a28718b8c4c692e734dfa37fd7819d72fbe92"
  }
 },
 "nbformat": 4,
 "nbformat_minor": 2
}