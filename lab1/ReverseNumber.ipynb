{
 "cells": [
  {
   "cell_type": "code",
   "execution_count": 19,
   "source": [
    "def reverse(number):\r\n",
    "    num=''\r\n",
    "    while(number>1):\r\n",
    "        num+=str(int(number%10)) #餘數取整數 再換成int 加到num中\r\n",
    "        number /= 10\r\n",
    "        \r\n",
    "    \r\n",
    "    return num"
   ],
   "outputs": [],
   "metadata": {}
  },
  {
   "cell_type": "code",
   "execution_count": 20,
   "source": [
    "num=int(input('enter your number')) #輸入正整數\r\n",
    "rev=reverse(num)\r\n",
    "print(rev)"
   ],
   "outputs": [
    {
     "output_type": "stream",
     "name": "stdout",
     "text": [
      "enter your number\n",
      "31321321\n"
     ]
    }
   ],
   "metadata": {}
  }
 ],
 "metadata": {
  "orig_nbformat": 4,
  "language_info": {
   "name": "python",
   "version": "3.9.4",
   "mimetype": "text/x-python",
   "codemirror_mode": {
    "name": "ipython",
    "version": 3
   },
   "pygments_lexer": "ipython3",
   "nbconvert_exporter": "python",
   "file_extension": ".py"
  },
  "kernelspec": {
   "name": "python3",
   "display_name": "Python 3.9.4 64-bit"
  },
  "interpreter": {
   "hash": "177b4ee802067b7652000e42b64a28718b8c4c692e734dfa37fd7819d72fbe92"
  }
 },
 "nbformat": 4,
 "nbformat_minor": 2
}