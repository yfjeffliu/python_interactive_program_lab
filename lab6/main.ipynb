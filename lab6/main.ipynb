{
 "cells": [
  {
   "cell_type": "code",
   "execution_count": 1,
   "source": [
    "import pygame\r\n",
    "from game import Game\r\n",
    "from settings import FPS\r\n",
    "\r\n",
    "if __name__ == '__main__':\r\n",
    "    # initialization\r\n",
    "    pygame.init()\r\n",
    "    # set the window\r\n",
    "    pygame.display.set_caption(\"My TD game\")\r\n",
    "\r\n",
    "    covid_game = Game()\r\n",
    "    quit_game = False\r\n",
    "    while not quit_game:\r\n",
    "        pygame.time.Clock().tick(FPS)\r\n",
    "        quit_game = covid_game.update()\r\n",
    "        covid_game.draw()\r\n",
    "\r\n",
    "    pygame.quit()\r\n"
   ],
   "outputs": [
    {
     "output_type": "stream",
     "name": "stdout",
     "text": [
      "pygame 2.0.1 (SDL 2.0.14, Python 3.8.10)\n",
      "Hello from the pygame community. https://www.pygame.org/contribute.html\n"
     ]
    }
   ],
   "metadata": {}
  }
 ],
 "metadata": {
  "kernelspec": {
   "name": "python3",
   "display_name": "Python 3.8.10 64-bit ('py38-pygame': conda)"
  },
  "language_info": {
   "name": "python",
   "version": "3.8.10",
   "mimetype": "text/x-python",
   "codemirror_mode": {
    "name": "ipython",
    "version": 3
   },
   "pygments_lexer": "ipython3",
   "nbconvert_exporter": "python",
   "file_extension": ".py"
  },
  "interpreter": {
   "hash": "fe76d8dd3d38177f66d7d7f6dbcbf8445daac52de7fb1d45af9e5ae0e6b94ad2"
  }
 },
 "nbformat": 4,
 "nbformat_minor": 4
}